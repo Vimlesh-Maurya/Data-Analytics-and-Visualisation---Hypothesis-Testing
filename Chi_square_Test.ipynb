{
  "nbformat": 4,
  "nbformat_minor": 0,
  "metadata": {
    "colab": {
      "provenance": [],
      "authorship_tag": "ABX9TyO5KVyQZU0sFN+YxaNuiv7C",
      "include_colab_link": true
    },
    "kernelspec": {
      "name": "python3",
      "display_name": "Python 3"
    },
    "language_info": {
      "name": "python"
    }
  },
  "cells": [
    {
      "cell_type": "markdown",
      "metadata": {
        "id": "view-in-github",
        "colab_type": "text"
      },
      "source": [
        "<a href=\"https://colab.research.google.com/github/Vimlesh-Maurya/Data-Analytics-and-Visualisation---Hypothesis-Testing/blob/main/Chi_square_Test.ipynb\" target=\"_parent\"><img src=\"https://colab.research.google.com/assets/colab-badge.svg\" alt=\"Open In Colab\"/></a>"
      ]
    },
    {
      "cell_type": "code",
      "execution_count": 9,
      "metadata": {
        "colab": {
          "base_uri": "https://localhost:8080/"
        },
        "id": "uVnr91XyiISh",
        "outputId": "8980ae90-ae6e-4c7c-d05f-c2d113f5b702"
      },
      "outputs": [
        {
          "output_type": "stream",
          "name": "stdout",
          "text": [
            "3.925170647869838e-18\n",
            "Reject the null hypothesis\n",
            "It means: we will accept the alternate hypothesis which is \"Marital status and alcohol consumption are associated\"\n"
          ]
        }
      ],
      "source": [
        "import numpy as np\n",
        "import matplotlib.pyplot as plt\n",
        "import pandas as pd\n",
        "from scipy.stats import chisquare, chi2_contingency\n",
        "\n",
        "# H0: Marital status and alcohol consumption are not associated.  #(This would be the exact opposit of alternate hypothesis)\n",
        "# Ha: Marital status and alcohol consumption are associated   # (This one we have to proove, so we will consider this as alternate hypothesis)\n",
        "\n",
        "\n",
        "data = [[67,213,74],\n",
        "        [411,633, 129],\n",
        "        [85,51,7],\n",
        "        [27,60,15]]\n",
        "\n",
        "alpha = 0.05\n",
        "\n",
        "# Here we will select chi2_contingency becasue 2 categories are involved and we wanted to check if they are related or independent.\n",
        "# Note: We select chisquare() - when only 1 category variable is involved and we try to match observed and expected\n",
        "res = chi2_contingency(data)\n",
        "\n",
        "print(res.pvalue)\n",
        "if res.pvalue < alpha:\n",
        "  print('Reject the null hypothesis')\n",
        "  print('It means: we will accept the alternate hypothesis which is \"Marital status and alcohol consumption are associated\"')\n",
        "else:\n",
        "  print('Fail to reject the null hypothesis')\n",
        "  print('Need more data to prove that - Marital status and alcohol consumption are associated')"
      ]
    },
    {
      "cell_type": "code",
      "source": [],
      "metadata": {
        "colab": {
          "base_uri": "https://localhost:8080/"
        },
        "id": "fAIXRLqOdvVe",
        "outputId": "15ba751e-7713-41e3-daaf-446c6e8ee4a6"
      },
      "execution_count": 4,
      "outputs": [
        {
          "output_type": "execute_result",
          "data": {
            "text/plain": [
              "Chi2ContingencyResult(statistic=94.26880078578765, pvalue=3.925170647869838e-18, dof=6, expected_freq=array([[117.86681716, 191.18397291,  44.94920993],\n",
              "       [390.55869074, 633.49943567, 148.94187359],\n",
              "       [ 47.61286682,  77.22968397,  18.15744921],\n",
              "       [ 33.96162528,  55.08690745,  12.95146727]]))"
            ]
          },
          "metadata": {},
          "execution_count": 4
        }
      ]
    },
    {
      "cell_type": "code",
      "source": [
        "import numpy as np\n",
        "import matplotlib.pyplot as plt\n",
        "import pandas as pd\n",
        "from scipy.stats import chisquare, chi2_contingency\n",
        "\n",
        "# H0: Ram's Survey and expected values are same\n",
        "# Ha: Ram's Survey and expected values are different\n",
        "\n",
        "\n",
        "Observed_values = [73,38,13]\n",
        "total_people = 73+38+18\n",
        "\n",
        "\n",
        "# Expected numbers should be as per question\n",
        "# 60% of owners have only one car,\n",
        "# 28% have two cars, and\n",
        "# 12% have three or more cars.\n",
        "\n",
        "Expected_values = [total_people*0.60, total_people*0.28, total_people*0.12]\n",
        "print(f'Expected_values: {Expected_values}')\n",
        "\n",
        "\n",
        "alpha = 0.05\n",
        "\n",
        "# Here we will select chi2_contingency becasue 2 categories are involved and we wanted to check if they are related or independent.\n",
        "# Note: We select chisquare() - when only 1 category variable is involved and we try to match observed and expected\n",
        "chi_stat, p_value = chisquare(Observed_values, Expected_values)\n",
        "\n",
        "print(res.pvalue)\n",
        "if res.pvalue < alpha:\n",
        "  print('Reject the null hypothesis')\n",
        "  print('It means: we will accept the alternate hypothesis which is \"Ram s Survey and expected values are same\"')\n",
        "else:\n",
        "  print('Fail to reject the null hypothesis')\n",
        "  print('Need more data to prove that - Rams Survey and expected values are different, currently both are same')"
      ],
      "metadata": {
        "colab": {
          "base_uri": "https://localhost:8080/",
          "height": 431
        },
        "id": "VLBNZiiekLeg",
        "outputId": "1810c1c4-3ab1-433d-f6d7-25adad50f589"
      },
      "execution_count": 17,
      "outputs": [
        {
          "output_type": "stream",
          "name": "stdout",
          "text": [
            "Expected_values: [77.39999999999999, 36.120000000000005, 15.479999999999999]\n"
          ]
        },
        {
          "output_type": "error",
          "ename": "ValueError",
          "evalue": "For each axis slice, the sum of the observed frequencies must agree with the sum of the expected frequencies to a relative tolerance of 1e-08, but the percent differences are:\n0.04032258064516129",
          "traceback": [
            "\u001b[0;31m---------------------------------------------------------------------------\u001b[0m",
            "\u001b[0;31mValueError\u001b[0m                                Traceback (most recent call last)",
            "\u001b[0;32m<ipython-input-17-dcde6ca32cad>\u001b[0m in \u001b[0;36m<cell line: 27>\u001b[0;34m()\u001b[0m\n\u001b[1;32m     25\u001b[0m \u001b[0;31m# Here we will select chi2_contingency becasue 2 categories are involved and we wanted to check if they are related or independent.\u001b[0m\u001b[0;34m\u001b[0m\u001b[0;34m\u001b[0m\u001b[0m\n\u001b[1;32m     26\u001b[0m \u001b[0;31m# Note: We select chisquare() - when only 1 category variable is involved and we try to match observed and expected\u001b[0m\u001b[0;34m\u001b[0m\u001b[0;34m\u001b[0m\u001b[0m\n\u001b[0;32m---> 27\u001b[0;31m \u001b[0mchi_stat\u001b[0m\u001b[0;34m,\u001b[0m \u001b[0mp_value\u001b[0m \u001b[0;34m=\u001b[0m \u001b[0mchisquare\u001b[0m\u001b[0;34m(\u001b[0m\u001b[0mObserved_values\u001b[0m\u001b[0;34m,\u001b[0m \u001b[0mExpected_values\u001b[0m\u001b[0;34m)\u001b[0m\u001b[0;34m\u001b[0m\u001b[0;34m\u001b[0m\u001b[0m\n\u001b[0m\u001b[1;32m     28\u001b[0m \u001b[0;34m\u001b[0m\u001b[0m\n\u001b[1;32m     29\u001b[0m \u001b[0mprint\u001b[0m\u001b[0;34m(\u001b[0m\u001b[0mres\u001b[0m\u001b[0;34m.\u001b[0m\u001b[0mpvalue\u001b[0m\u001b[0;34m)\u001b[0m\u001b[0;34m\u001b[0m\u001b[0;34m\u001b[0m\u001b[0m\n",
            "\u001b[0;32m/usr/local/lib/python3.10/dist-packages/scipy/stats/_stats_py.py\u001b[0m in \u001b[0;36mchisquare\u001b[0;34m(f_obs, f_exp, ddof, axis)\u001b[0m\n\u001b[1;32m   8252\u001b[0m \u001b[0;34m\u001b[0m\u001b[0m\n\u001b[1;32m   8253\u001b[0m     \"\"\"  # noqa\n\u001b[0;32m-> 8254\u001b[0;31m     return power_divergence(f_obs, f_exp=f_exp, ddof=ddof, axis=axis,\n\u001b[0m\u001b[1;32m   8255\u001b[0m                             lambda_=\"pearson\")\n\u001b[1;32m   8256\u001b[0m \u001b[0;34m\u001b[0m\u001b[0m\n",
            "\u001b[0;32m/usr/local/lib/python3.10/dist-packages/scipy/stats/_stats_py.py\u001b[0m in \u001b[0;36mpower_divergence\u001b[0;34m(f_obs, f_exp, ddof, axis, lambda_)\u001b[0m\n\u001b[1;32m   8049\u001b[0m                    \u001b[0;34mf\"of {rtol}, but the percent differences are:\\n\"\u001b[0m\u001b[0;34m\u001b[0m\u001b[0;34m\u001b[0m\u001b[0m\n\u001b[1;32m   8050\u001b[0m                    f\"{relative_diff}\")\n\u001b[0;32m-> 8051\u001b[0;31m             \u001b[0;32mraise\u001b[0m \u001b[0mValueError\u001b[0m\u001b[0;34m(\u001b[0m\u001b[0mmsg\u001b[0m\u001b[0;34m)\u001b[0m\u001b[0;34m\u001b[0m\u001b[0;34m\u001b[0m\u001b[0m\n\u001b[0m\u001b[1;32m   8052\u001b[0m \u001b[0;34m\u001b[0m\u001b[0m\n\u001b[1;32m   8053\u001b[0m     \u001b[0;32melse\u001b[0m\u001b[0;34m:\u001b[0m\u001b[0;34m\u001b[0m\u001b[0;34m\u001b[0m\u001b[0m\n",
            "\u001b[0;31mValueError\u001b[0m: For each axis slice, the sum of the observed frequencies must agree with the sum of the expected frequencies to a relative tolerance of 1e-08, but the percent differences are:\n0.04032258064516129"
          ]
        }
      ]
    },
    {
      "cell_type": "code",
      "source": [
        "# prompt: # what is wrong here, how to solve it\n",
        "# import numpy as np\n",
        "# import matplotlib.pyplot as plt\n",
        "# import pandas as pd\n",
        "# from scipy.stats import chisquare, chi2_contingency\n",
        "# # H0: Ram's Survey and expected values are same\n",
        "# # Ha: Ram's Survey and expected values are different\n",
        "# Observed_values = [73,38,13]\n",
        "# total_people = 73+38+18\n",
        "# # Expected numbers should be as per question\n",
        "# # 60% of owners have only one c\n",
        "\n",
        "import numpy as np\n",
        "import matplotlib.pyplot as plt\n",
        "import pandas as pd\n",
        "from scipy.stats import chisquare, chi2_contingency\n",
        "\n",
        "# H0: Ram's Survey and expected values are same\n",
        "# Ha: Ram's Survey and expected values are different\n",
        "\n",
        "Observed_values = [73, 38, 13]\n",
        "total_people = 73 + 38 + 13\n",
        "\n",
        "# Expected numbers should be as per question\n",
        "# 60% of owners have only one car,\n",
        "# 28% have two cars, and\n",
        "# 12% have three or more cars.\n",
        "\n",
        "Expected_values = [total_people * 0.60, total_people * 0.28, total_people * 0.12]\n",
        "print(f'Expected_values: {Expected_values}')\n",
        "\n",
        "alpha = 0.05\n",
        "\n",
        "# Here we will select chi2_contingency because 2 categories are involved and we wanted to check if they are related or independent.\n",
        "# Note: We select chisquare() - when only 1 category variable is involved and we try to match observed and expected\n",
        "chi_stat, p_value = chisquare(Observed_values, Expected_values)\n",
        "\n",
        "print(f'p_value: {p_value}')\n",
        "if p_value < alpha:\n",
        "  print('Reject the null hypothesis')\n",
        "  print('It means: we will accept the alternate hypothesis which is \"Ram s Survey and expected values are same\"')\n",
        "else:\n",
        "  print('Fail to reject the null hypothesis')\n",
        "  print('Need more data to prove that - Rams Survey and expected values are different, currently both are same')\n"
      ],
      "metadata": {
        "colab": {
          "base_uri": "https://localhost:8080/"
        },
        "id": "uvqVv0cHp49U",
        "outputId": "6d59e0b0-51ad-4b5c-9c74-3a708e7041f2"
      },
      "execution_count": 20,
      "outputs": [
        {
          "output_type": "stream",
          "name": "stdout",
          "text": [
            "Expected_values: [74.39999999999999, 34.720000000000006, 14.879999999999999]\n",
            "p_value: 0.7506120343418323\n",
            "Fail to reject the null hypothesis\n",
            "Need more data to prove that - Rams Survey and expected values are different, currently both are same\n"
          ]
        }
      ]
    },
    {
      "cell_type": "code",
      "source": [
        "a = [1,2,3]\n",
        "a*2"
      ],
      "metadata": {
        "colab": {
          "base_uri": "https://localhost:8080/"
        },
        "id": "sryKk5g1tkUV",
        "outputId": "087f94fc-220c-4fbb-ade8-32134b3b3a2c"
      },
      "execution_count": 23,
      "outputs": [
        {
          "output_type": "execute_result",
          "data": {
            "text/plain": [
              "[1, 2, 3, 1, 2, 3]"
            ]
          },
          "metadata": {},
          "execution_count": 23
        }
      ]
    },
    {
      "cell_type": "code",
      "source": [
        "arr = np.array([1,2,3])\n",
        "arr*2"
      ],
      "metadata": {
        "colab": {
          "base_uri": "https://localhost:8080/"
        },
        "id": "00PSHnGqtr-D",
        "outputId": "48b47218-4fd6-4366-82ff-d1f058dc5100"
      },
      "execution_count": 25,
      "outputs": [
        {
          "output_type": "execute_result",
          "data": {
            "text/plain": [
              "array([2, 4, 6])"
            ]
          },
          "metadata": {},
          "execution_count": 25
        }
      ]
    },
    {
      "cell_type": "code",
      "source": [
        "obs_proportion = np.array([0.30, 0.40,0.30])\n",
        "\n",
        "exp_count = np.array([70,80,50])\n",
        "total_count = exp_count.sum()\n",
        "\n",
        "obs_count = obs_proportion * total_count\n",
        "print(obs_count)"
      ],
      "metadata": {
        "colab": {
          "base_uri": "https://localhost:8080/"
        },
        "id": "wU5ob9aAt8pm",
        "outputId": "247cc47b-131a-4460-b3ff-74f860ea684e"
      },
      "execution_count": 28,
      "outputs": [
        {
          "output_type": "stream",
          "name": "stdout",
          "text": [
            "[60. 80. 60.]\n"
          ]
        }
      ]
    },
    {
      "cell_type": "code",
      "source": [
        "res = chisquare(obs_count, exp_count)\n",
        "print(res.pvalue)"
      ],
      "metadata": {
        "colab": {
          "base_uri": "https://localhost:8080/"
        },
        "id": "junNavB8uRtE",
        "outputId": "a140f87e-dfff-4866-8afa-de90f9a9ea27"
      },
      "execution_count": 29,
      "outputs": [
        {
          "output_type": "stream",
          "name": "stdout",
          "text": [
            "0.18009231214795238\n"
          ]
        }
      ]
    }
  ]
}